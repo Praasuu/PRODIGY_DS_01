{
  "metadata": {
    "kernelspec": {
      "language": "python",
      "display_name": "Python 3",
      "name": "python3"
    },
    "language_info": {
      "name": "python",
      "version": "3.10.13",
      "mimetype": "text/x-python",
      "codemirror_mode": {
        "name": "ipython",
        "version": 3
      },
      "pygments_lexer": "ipython3",
      "nbconvert_exporter": "python",
      "file_extension": ".py"
    },
    "kaggle": {
      "accelerator": "none",
      "dataSources": [
        {
          "sourceId": 1173983,
          "sourceType": "datasetVersion",
          "datasetId": 666227
        }
      ],
      "dockerImageVersionId": 30698,
      "isInternetEnabled": true,
      "language": "python",
      "sourceType": "notebook",
      "isGpuEnabled": false
    },
    "colab": {
      "name": "Task 1- distribution of a continous variable",
      "provenance": []
    }
  },
  "nbformat_minor": 0,
  "nbformat": 4,
  "cells": [
    {
      "source": [
        "\n",
        "# IMPORTANT: RUN THIS CELL IN ORDER TO IMPORT YOUR KAGGLE DATA SOURCES\n",
        "# TO THE CORRECT LOCATION (/kaggle/input) IN YOUR NOTEBOOK,\n",
        "# THEN FEEL FREE TO DELETE THIS CELL.\n",
        "# NOTE: THIS NOTEBOOK ENVIRONMENT DIFFERS FROM KAGGLE'S PYTHON\n",
        "# ENVIRONMENT SO THERE MAY BE MISSING LIBRARIES USED BY YOUR\n",
        "# NOTEBOOK.\n",
        "\n",
        "import os\n",
        "import sys\n",
        "from tempfile import NamedTemporaryFile\n",
        "from urllib.request import urlopen\n",
        "from urllib.parse import unquote, urlparse\n",
        "from urllib.error import HTTPError\n",
        "from zipfile import ZipFile\n",
        "import tarfile\n",
        "import shutil\n",
        "\n",
        "CHUNK_SIZE = 40960\n",
        "DATA_SOURCE_MAPPING = 'heights-and-weights-dataset:https%3A%2F%2Fstorage.googleapis.com%2Fkaggle-data-sets%2F666227%2F1173983%2Fbundle%2Farchive.zip%3FX-Goog-Algorithm%3DGOOG4-RSA-SHA256%26X-Goog-Credential%3Dgcp-kaggle-com%2540kaggle-161607.iam.gserviceaccount.com%252F20240517%252Fauto%252Fstorage%252Fgoog4_request%26X-Goog-Date%3D20240517T102112Z%26X-Goog-Expires%3D259200%26X-Goog-SignedHeaders%3Dhost%26X-Goog-Signature%3D9f85ee30adef8cece05522cf02878872b007f66280f031c2710254bcf32c8b26adc17817c290267f526774263d89ddcde0d87818214b4c077a2eaed10f2250cfae95c04faeb12edb5a67f9a5ae8857401d6d6943ece21dc88f9ecec98d9ee3fd976e873d985109cd756b061a3969fcf768fb97610777c458d6dce8e5eaff47cb9b07cd3124580fe1560db8304d71e499664f568f177c52001238ef8bf5c0ae1d5513ad0f11c8337e50f1afcd4e8cf4108ff14efcfa59e32d3f93c15dbb5341378986de15253d8000b8a7f0f2a931e6b9f54fddee6882152a542c50e2f31d28d718fef3e8bd317194354e9d8e710afd1bfd1fbee585d8df4cb501a193be2675e4'\n",
        "\n",
        "KAGGLE_INPUT_PATH='/kaggle/input'\n",
        "KAGGLE_WORKING_PATH='/kaggle/working'\n",
        "KAGGLE_SYMLINK='kaggle'\n",
        "\n",
        "!umount /kaggle/input/ 2> /dev/null\n",
        "shutil.rmtree('/kaggle/input', ignore_errors=True)\n",
        "os.makedirs(KAGGLE_INPUT_PATH, 0o777, exist_ok=True)\n",
        "os.makedirs(KAGGLE_WORKING_PATH, 0o777, exist_ok=True)\n",
        "\n",
        "try:\n",
        "  os.symlink(KAGGLE_INPUT_PATH, os.path.join(\"..\", 'input'), target_is_directory=True)\n",
        "except FileExistsError:\n",
        "  pass\n",
        "try:\n",
        "  os.symlink(KAGGLE_WORKING_PATH, os.path.join(\"..\", 'working'), target_is_directory=True)\n",
        "except FileExistsError:\n",
        "  pass\n",
        "\n",
        "for data_source_mapping in DATA_SOURCE_MAPPING.split(','):\n",
        "    directory, download_url_encoded = data_source_mapping.split(':')\n",
        "    download_url = unquote(download_url_encoded)\n",
        "    filename = urlparse(download_url).path\n",
        "    destination_path = os.path.join(KAGGLE_INPUT_PATH, directory)\n",
        "    try:\n",
        "        with urlopen(download_url) as fileres, NamedTemporaryFile() as tfile:\n",
        "            total_length = fileres.headers['content-length']\n",
        "            print(f'Downloading {directory}, {total_length} bytes compressed')\n",
        "            dl = 0\n",
        "            data = fileres.read(CHUNK_SIZE)\n",
        "            while len(data) > 0:\n",
        "                dl += len(data)\n",
        "                tfile.write(data)\n",
        "                done = int(50 * dl / int(total_length))\n",
        "                sys.stdout.write(f\"\\r[{'=' * done}{' ' * (50-done)}] {dl} bytes downloaded\")\n",
        "                sys.stdout.flush()\n",
        "                data = fileres.read(CHUNK_SIZE)\n",
        "            if filename.endswith('.zip'):\n",
        "              with ZipFile(tfile) as zfile:\n",
        "                zfile.extractall(destination_path)\n",
        "            else:\n",
        "              with tarfile.open(tfile.name) as tarfile:\n",
        "                tarfile.extractall(destination_path)\n",
        "            print(f'\\nDownloaded and uncompressed: {directory}')\n",
        "    except HTTPError as e:\n",
        "        print(f'Failed to load (likely expired) {download_url} to path {destination_path}')\n",
        "        continue\n",
        "    except OSError as e:\n",
        "        print(f'Failed to load {download_url} to path {destination_path}')\n",
        "        continue\n",
        "\n",
        "print('Data source import complete.')\n"
      ],
      "metadata": {
        "colab": {
          "base_uri": "https://localhost:8080/"
        },
        "id": "nFOsZaiREoY7",
        "outputId": "221b1ae9-d09f-4fbd-e24d-4710c562fb35"
      },
      "cell_type": "code",
      "outputs": [
        {
          "output_type": "stream",
          "name": "stdout",
          "text": [
            "Downloading heights-and-weights-dataset, 250018 bytes compressed\n",
            "[==================================================] 250018 bytes downloaded\n",
            "Downloaded and uncompressed: heights-and-weights-dataset\n",
            "Data source import complete.\n"
          ]
        }
      ],
      "execution_count": 1
    },
    {
      "cell_type": "code",
      "source": [
        "# This Python 3 environment comes with many helpful analytics libraries installed\n",
        "# It is defined by the kaggle/python Docker image: https://github.com/kaggle/docker-python\n",
        "# For example, here's several helpful packages to load\n",
        "\n",
        "import numpy as np # linear algebra\n",
        "import pandas as pd # data processing, CSV file I/O (e.g. pd.read_csv)\n",
        "\n",
        "# Input data files are available in the read-only \"../input/\" directory\n",
        "# For example, running this (by clicking run or pressing Shift+Enter) will list all files under the input directory\n",
        "\n",
        "import os\n",
        "for dirname, _, filenames in os.walk('/kaggle/input'):\n",
        "    for filename in filenames:\n",
        "        print(os.path.join(dirname, filename))\n",
        "\n",
        "# You can write up to 20GB to the current directory (/kaggle/working/) that gets preserved as output when you create a version using \"Save & Run All\"\n",
        "# You can also write temporary files to /kaggle/temp/, but they won't be saved outside of the current session"
      ],
      "metadata": {
        "_uuid": "8f2839f25d086af736a60e9eeb907d3b93b6e0e5",
        "_cell_guid": "b1076dfc-b9ad-4769-8c92-a6c4dae69d19",
        "execution": {
          "iopub.status.busy": "2024-05-17T10:07:52.282399Z",
          "iopub.execute_input": "2024-05-17T10:07:52.282832Z",
          "iopub.status.idle": "2024-05-17T10:07:53.604877Z",
          "shell.execute_reply.started": "2024-05-17T10:07:52.282797Z",
          "shell.execute_reply": "2024-05-17T10:07:53.603658Z"
        },
        "trusted": true,
        "colab": {
          "base_uri": "https://localhost:8080/"
        },
        "id": "9J5UdZX7EoZA",
        "outputId": "266450e9-5d48-4997-9ebf-88a2c3a3f6de"
      },
      "execution_count": 4,
      "outputs": [
        {
          "output_type": "stream",
          "name": "stdout",
          "text": [
            "/kaggle/input/heights-and-weights-dataset/SOCR-HeightWeight.csv\n"
          ]
        }
      ]
    },
    {
      "cell_type": "code",
      "source": [
        "import pandas as pd\n",
        "import matplotlib.pyplot as plt\n",
        "\n",
        "# Load the dataset\n",
        "# Replace 'dataset.csv' with the filename or path to your dataset\n",
        "data_1 = pd.read_csv(\"/kaggle/input/heights-and-weights-dataset/SOCR-HeightWeight.csv\")\n"
      ],
      "metadata": {
        "trusted": true,
        "id": "Pw_C_MmrEoZC"
      },
      "execution_count": 5,
      "outputs": []
    },
    {
      "cell_type": "code",
      "source": [
        "# Display the first few rows of the dataset\n",
        "print(data_1.head())\n"
      ],
      "metadata": {
        "colab": {
          "base_uri": "https://localhost:8080/"
        },
        "id": "lVlJnu_lE18Y",
        "outputId": "d5172f26-df01-41a3-f5fa-f3c048d7949e"
      },
      "execution_count": 6,
      "outputs": [
        {
          "output_type": "stream",
          "name": "stdout",
          "text": [
            "   Index  Height(Inches)  Weight(Pounds)\n",
            "0      1        65.78331        112.9925\n",
            "1      2        71.51521        136.4873\n",
            "2      3        69.39874        153.0269\n",
            "3      4        68.21660        142.3354\n",
            "4      5        67.78781        144.2971\n"
          ]
        }
      ]
    },
    {
      "cell_type": "code",
      "source": [
        "# Limit the dataset to the first 250 rows\n",
        "data_1_limited = data_1.head(250)\n",
        "\n",
        "# Display the dataset after limiting to 250 rows\n",
        "print(\"\\nDataset size after limiting to 250 rows:\", data_1_limited.shape)\n",
        "print(data_1_limited.head())"
      ],
      "metadata": {
        "colab": {
          "base_uri": "https://localhost:8080/"
        },
        "id": "35I04NQDIdOW",
        "outputId": "88e61aa3-1417-4720-a8a7-ae6920092cc4"
      },
      "execution_count": 12,
      "outputs": [
        {
          "output_type": "stream",
          "name": "stdout",
          "text": [
            "\n",
            "Dataset size after limiting to 250 rows: (250, 3)\n",
            "   Index  Height(Inches)  Weight(Pounds)\n",
            "0      1        65.78331        112.9925\n",
            "1      2        71.51521        136.4873\n",
            "2      3        69.39874        153.0269\n",
            "3      4        68.21660        142.3354\n",
            "4      5        67.78781        144.2971\n"
          ]
        }
      ]
    },
    {
      "cell_type": "code",
      "source": [
        "# Display the last few rows of the dataset\n",
        "print(data_1_limited.tail())"
      ],
      "metadata": {
        "colab": {
          "base_uri": "https://localhost:8080/"
        },
        "id": "pKeU-1HpE8fZ",
        "outputId": "024afc22-20a0-4fd3-b7fc-cc59bb8cf912"
      },
      "execution_count": 14,
      "outputs": [
        {
          "output_type": "stream",
          "name": "stdout",
          "text": [
            "     Index  Height(Inches)  Weight(Pounds)\n",
            "245    246        69.89473        115.6752\n",
            "246    247        69.83048        134.7905\n",
            "247    248        65.39790        120.5746\n",
            "248    249        68.32214        120.0835\n",
            "249    250        65.93895         84.3598\n"
          ]
        }
      ]
    },
    {
      "cell_type": "code",
      "source": [
        "# Display information about the dataset\n",
        "print(data_1_limited.info())\n"
      ],
      "metadata": {
        "colab": {
          "base_uri": "https://localhost:8080/"
        },
        "id": "8Z-_2ibXFAVQ",
        "outputId": "4cb22c9c-30ec-4d00-bc3c-fc71b14256dc"
      },
      "execution_count": 16,
      "outputs": [
        {
          "output_type": "stream",
          "name": "stdout",
          "text": [
            "<class 'pandas.core.frame.DataFrame'>\n",
            "RangeIndex: 250 entries, 0 to 249\n",
            "Data columns (total 3 columns):\n",
            " #   Column          Non-Null Count  Dtype  \n",
            "---  ------          --------------  -----  \n",
            " 0   Index           250 non-null    int64  \n",
            " 1   Height(Inches)  250 non-null    float64\n",
            " 2   Weight(Pounds)  250 non-null    float64\n",
            "dtypes: float64(2), int64(1)\n",
            "memory usage: 6.0 KB\n",
            "None\n"
          ]
        }
      ]
    },
    {
      "cell_type": "code",
      "source": [
        "# Display statistical summary of the dataset\n",
        "print(data_1_limited.describe())\n"
      ],
      "metadata": {
        "colab": {
          "base_uri": "https://localhost:8080/"
        },
        "id": "NpwhaXahFCid",
        "outputId": "207f66b4-9823-4714-804a-3d1ceedbaad8"
      },
      "execution_count": 17,
      "outputs": [
        {
          "output_type": "stream",
          "name": "stdout",
          "text": [
            "            Index  Height(Inches)  Weight(Pounds)\n",
            "count  250.000000      250.000000      250.000000\n",
            "mean   125.500000       67.992047      127.199087\n",
            "std     72.312977        1.922800       12.164428\n",
            "min      1.000000       63.425770       84.359800\n",
            "25%     63.250000       66.586337      119.324050\n",
            "50%    125.500000       67.991660      127.872700\n",
            "75%    187.750000       69.329055      136.157100\n",
            "max    250.000000       73.901070      158.956200\n"
          ]
        }
      ]
    },
    {
      "cell_type": "code",
      "source": [
        "# Plot the histogram to visualize the distribution of Heights\n",
        "plt.figure(figsize=(10, 6))\n",
        "plt.hist(data_1_limited['Height(Inches)'], bins=20, color='pink', edgecolor='black', alpha=0.7)\n",
        "plt.title('Distribution of Heights')\n",
        "plt.xlabel('Height (Inches)')\n",
        "plt.ylabel('Frequency')\n",
        "plt.grid(axis='y', linestyle='--', alpha=0.7)\n",
        "plt.show()"
      ],
      "metadata": {
        "colab": {
          "base_uri": "https://localhost:8080/",
          "height": 564
        },
        "id": "8e-GzYSWFFlL",
        "outputId": "f4cead6b-bc60-4353-a6a2-2f35c11316f5"
      },
      "execution_count": 18,
      "outputs": [
        {
          "output_type": "display_data",
          "data": {
            "text/plain": [
              "<Figure size 1000x600 with 1 Axes>"
            ],
            "image/png": "[encoded data removed]"
          },
          "metadata": {}
        }
      ]
    },
    {
      "cell_type": "code",
      "source": [
        "# Plot the histogram to visualize the distribution of Weights\n",
        "plt.figure(figsize=(10, 6))\n",
        "plt.hist(data_1_limited['Weight(Pounds)'], bins=20, color='lightblue', edgecolor='black', alpha=0.7)\n",
        "plt.title('Distribution of Weights')\n",
        "plt.xlabel('Weight (Pounds)')\n",
        "plt.ylabel('Frequency')\n",
        "plt.grid(axis='y', linestyle='--', alpha=0.7)\n",
        "plt.show()"
      ],
      "metadata": {
        "colab": {
          "base_uri": "https://localhost:8080/",
          "height": 564
        },
        "id": "Ja47OO7PFPyS",
        "outputId": "bb75c966-6c35-4010-885b-81fc6a2e6bf7"
      },
      "execution_count": 19,
      "outputs": [
        {
          "output_type": "display_data",
          "data": {
            "text/plain": [
              "<Figure size 1000x600 with 1 Axes>"
            ],
            "image/png": "[encoded data removed]"
          },
          "metadata": {}
        }
      ]
    }
  ]
}